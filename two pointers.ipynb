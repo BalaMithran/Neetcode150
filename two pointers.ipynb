{
 "cells": [
  {
   "cell_type": "code",
   "execution_count": 1,
   "metadata": {},
   "outputs": [],
   "source": [
    "def ispalindrome(s):\n",
    "    l , r = 0 , len(s)-1\n",
    "    while l<r:\n",
    "        if not s[l].isalnum():\n",
    "            l+=1\n",
    "            continue\n",
    "        if not s[r].isalnum():\n",
    "            r-=1\n",
    "            continue\n",
    "        if s[l].lower()!=s[r].lower():\n",
    "            return False\n",
    "        l+=1\n",
    "        r-=1\n",
    "    return True"
   ]
  },
  {
   "attachments": {},
   "cell_type": "markdown",
   "metadata": {},
   "source": [
    "https://leetcode.com/problems/3sum/"
   ]
  },
  {
   "cell_type": "code",
   "execution_count": null,
   "metadata": {},
   "outputs": [],
   "source": [
    "def threesum(nums):\n",
    "    ans = []\n",
    "    nums.sort()\n",
    "    for i in range(len(nums)):\n",
    "        op = findpairs(nums[i+1] , -nums[i])\n",
    "        if op!=[]:\n",
    "            for res in op:\n",
    "                l , r = res\n",
    "                if [nums[i] , nums[i+l+1] , nums[i+r+1]] not in ans:\n",
    "                    ans.append([nums[i] , nums[i+l+1] , nums[i+r+1]])\n",
    "    return ans\n",
    "def findpairs(arr , target):\n",
    "    l , r = 0 , len(arr)-1\n",
    "    op= []\n",
    "    while l<r:\n",
    "        if arr[l]+arr[r] > target:\n",
    "            r-=1\n",
    "        elif arr[l]+arr[r] < target:\n",
    "            l+=1\n",
    "        else:\n",
    "            op.append((l , r))\n",
    "            l+=1\n",
    "            r-=1\n",
    "    return op\n"
   ]
  },
  {
   "attachments": {},
   "cell_type": "markdown",
   "metadata": {},
   "source": [
    "https://leetcode.com/problems/container-with-most-water/"
   ]
  },
  {
   "cell_type": "code",
   "execution_count": 2,
   "metadata": {},
   "outputs": [],
   "source": [
    "# while using 2 pointers left and right on arrays , the looping condition is always \"while l < r\"\n",
    "\n",
    "def maxwater(height):\n",
    "    max_area = 0\n",
    "    l , r = 0 , len(height)-1\n",
    "    while l<r:\n",
    "        max_area = max(max_area , min(height[l] , height[r])*(r-l))\n",
    "        if height[l]<height[r]:\n",
    "            l+=1\n",
    "        elif height[l]>height[r]:\n",
    "            r-=1\n",
    "        else:\n",
    "            l+=1\n",
    "            r-=1\n",
    "    return max_area"
   ]
  },
  {
   "attachments": {},
   "cell_type": "markdown",
   "metadata": {},
   "source": [
    "# sliding window"
   ]
  },
  {
   "attachments": {},
   "cell_type": "markdown",
   "metadata": {},
   "source": [
    "https://leetcode.com/problems/best-time-to-buy-and-sell-stock/"
   ]
  },
  {
   "cell_type": "code",
   "execution_count": 3,
   "metadata": {},
   "outputs": [],
   "source": [
    "# start a window of days with s , e = 0 , 0 \n",
    "# try growing the windo\n",
    "    # if s>e --> does not make a profit so set e = s\n",
    "    # if s<e --> we have a profit ...now increment e and increase the window size and see if we get a higher profit .\n",
    "def max_profit(prices):\n",
    "    max_profit = 0\n",
    "    s , e = 0 ,1\n",
    "    while e < len(prices):\n",
    "        max_profit = max(max_profit , prices[e]-prices[s])\n",
    "        if prices[s]>prices[e]:\n",
    "            s=e\n",
    "        else:\n",
    "            e+=1\n",
    "    return max_profit"
   ]
  },
  {
   "attachments": {},
   "cell_type": "markdown",
   "metadata": {},
   "source": [
    "https://leetcode.com/problems/longest-substring-without-repeating-characters/"
   ]
  },
  {
   "cell_type": "code",
   "execution_count": 1,
   "metadata": {},
   "outputs": [],
   "source": [
    "def longestSubString(s):\n",
    "    max_len = 0\n",
    "    count = set()\n",
    "    start = 0\n",
    "    for end in range(len(s)):\n",
    "        while s[end] in count:\n",
    "            count.remove(s[start])\n",
    "            start+=1\n",
    "        count.add(s[end])\n",
    "        max_len = max(max_len , end-start+1)\n",
    "    return max_len"
   ]
  },
  {
   "cell_type": "code",
   "execution_count": null,
   "metadata": {},
   "outputs": [],
   "source": []
  }
 ],
 "metadata": {
  "kernelspec": {
   "display_name": "Python 3",
   "language": "python",
   "name": "python3"
  },
  "language_info": {
   "codemirror_mode": {
    "name": "ipython",
    "version": 3
   },
   "file_extension": ".py",
   "mimetype": "text/x-python",
   "name": "python",
   "nbconvert_exporter": "python",
   "pygments_lexer": "ipython3",
   "version": "3.9.6"
  },
  "orig_nbformat": 4
 },
 "nbformat": 4,
 "nbformat_minor": 2
}
