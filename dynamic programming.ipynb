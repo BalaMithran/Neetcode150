{
 "cells": [
  {
   "attachments": {},
   "cell_type": "markdown",
   "metadata": {},
   "source": [
    "how to solve a DP problem\n",
    "\n",
    "steps:\n",
    "- Find recursive relation\n",
    "- Recursive (top-down)\n",
    "- Recursive + memo (top-down)\n",
    "- Iterative + memo (bottom-up)\n",
    "- Iterative + N variables (bottom-up)"
   ]
  },
  {
   "cell_type": "code",
   "execution_count": null,
   "metadata": {},
   "outputs": [],
   "source": [
    "def climbstairs(n):\n",
    "    memo = [0] * (n+1)\n",
    "    memo[0] = memo[1] = 1\n",
    "    if n == 0 or n == 1:\n",
    "        return 1\n",
    "    for i in range(2 , n+1):\n",
    "        memo[i] = memo[i-1]+memo[i-2]\n",
    "    return memo[-1]"
   ]
  },
  {
   "attachments": {},
   "cell_type": "markdown",
   "metadata": {},
   "source": [
    "solution referenc\n",
    "\n",
    "https://leetcode.com/problems/climbing-stairs/solutions/3708750/4-method-s-beat-s-100-c-java-python-beginner-friendly/\n"
   ]
  },
  {
   "attachments": {},
   "cell_type": "markdown",
   "metadata": {},
   "source": [
    "# House rob Problem\n",
    "https://leetcode.com/problems/house-robber/"
   ]
  },
  {
   "cell_type": "code",
   "execution_count": null,
   "metadata": {},
   "outputs": [],
   "source": [
    "def rob(self, nums):\n",
    "        max_val = 0\n",
    "        def robhelper(nums , max_val):\n",
    "            print(max_val)\n",
    "            if not nums:return max_val\n",
    "            if len(nums)==1:\n",
    "                return max_val+nums[0]\n",
    "            return max(robhelper(nums[2:] , max_val+nums[0]) , robhelper(nums[1:] , max_val))\n",
    "        return robhelper(nums , max_val)"
   ]
  },
  {
   "cell_type": "code",
   "execution_count": null,
   "metadata": {},
   "outputs": [],
   "source": [
    "def rob(nums):\n",
    "    one_before , prev = 0 , 0\n",
    "    nums = \n",
    "    for n in nums:\n",
    "        one_before , prev = prev,max(n+one_before , prev)\n",
    "    return prev"
   ]
  },
  {
   "attachments": {},
   "cell_type": "markdown",
   "metadata": {},
   "source": [
    "# Rob house 2"
   ]
  },
  {
   "cell_type": "code",
   "execution_count": null,
   "metadata": {},
   "outputs": [],
   "source": [
    "def rob(self, nums):\n",
    "    def helper(arr):\n",
    "        before_prev , prev = 0 , 0\n",
    "        for i in arr:\n",
    "            before_prev , prev = prev , max(i+before_prev , prev)\n",
    "        return prev\n",
    "    return max(nums[0] , helper(nums[1:]) , helper(nums[:-1]))"
   ]
  },
  {
   "attachments": {},
   "cell_type": "markdown",
   "metadata": {},
   "source": [
    "# Longest Palindromic Substring"
   ]
  },
  {
   "cell_type": "code",
   "execution_count": null,
   "metadata": {},
   "outputs": [],
   "source": [
    "def longest_palindrome(s):\n",
    "    res , reslen = \"\" , 0\n",
    "    for i in range(len(s)):\n",
    "        l , r = i , i\n",
    "        while l>0 and r<len(s) and s[l] == s[r]:\n",
    "            if r-l+1 > reslen:\n",
    "                res  =s[l:r+1]\n",
    "                res_len = len(res)\n",
    "            l-=1\n",
    "            r+=1\n",
    "        l , r = i , i+1\n",
    "        while l>0 and r<len(s) and s[l] == s[r]:\n",
    "            if r-l+1 > reslen:\n",
    "                res  =s[l:r+1]\n",
    "                res_len = len(res)\n",
    "            l-=1\n",
    "            r+=1\n",
    "        \n",
    "    return res\n",
    "        "
   ]
  }
 ],
 "metadata": {
  "kernelspec": {
   "display_name": "Python 3",
   "language": "python",
   "name": "python3"
  },
  "language_info": {
   "codemirror_mode": {
    "name": "ipython",
    "version": 3
   },
   "file_extension": ".py",
   "mimetype": "text/x-python",
   "name": "python",
   "nbconvert_exporter": "python",
   "pygments_lexer": "ipython3",
   "version": "3.9.6"
  },
  "orig_nbformat": 4
 },
 "nbformat": 4,
 "nbformat_minor": 2
}
