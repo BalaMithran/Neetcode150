{
 "cells": [
  {
   "cell_type": "code",
   "execution_count": 1,
   "metadata": {},
   "outputs": [],
   "source": [
    "\n",
    "class Node:    \n",
    "\tdef __init__(self,value):        \n",
    "\t\tself.value = value        \n",
    "\t\tself.next = None\n",
    "\n",
    "def insert(arr):\n",
    "\thead = Node(arr[0])\n",
    "\tpointer = head\n",
    "\tfor i in arr[1:]:\n",
    "\t\tpointer.next = Node(i)\n",
    "\t\tpointer = pointer.next\n",
    "\treturn head"
   ]
  },
  {
   "cell_type": "code",
   "execution_count": 25,
   "metadata": {},
   "outputs": [],
   "source": [
    "def printll(head):\n",
    "    res = \"\"\n",
    "    while head:\n",
    "        res = res + str(head.value) \n",
    "        head = head.next\n",
    "        if head:\n",
    "            res+=\" --> \"\n",
    "    return res"
   ]
  },
  {
   "cell_type": "code",
   "execution_count": 139,
   "metadata": {},
   "outputs": [
    {
     "name": "stdout",
     "output_type": "stream",
     "text": [
      "<__main__.Node object at 0x10453d340>\n"
     ]
    }
   ],
   "source": [
    "head = insert([1,3,4,6,7,9,12,15,16])\n",
    "print(head)"
   ]
  },
  {
   "cell_type": "code",
   "execution_count": 136,
   "metadata": {},
   "outputs": [
    {
     "data": {
      "text/plain": [
       "'1 --> 3 --> 4 --> 6 --> 7 --> 9 --> 12 --> 15 --> 16'"
      ]
     },
     "execution_count": 136,
     "metadata": {},
     "output_type": "execute_result"
    }
   ],
   "source": [
    "printll(head)"
   ]
  },
  {
   "attachments": {},
   "cell_type": "markdown",
   "metadata": {},
   "source": [
    "https://leetcode.com/problems/reverse-linked-list/"
   ]
  },
  {
   "cell_type": "code",
   "execution_count": 140,
   "metadata": {},
   "outputs": [
    {
     "data": {
      "text/plain": [
       "'16 --> 15 --> 12 --> 9 --> 7 --> 6 --> 4 --> 3 --> 1'"
      ]
     },
     "execution_count": 140,
     "metadata": {},
     "output_type": "execute_result"
    }
   ],
   "source": [
    "def reverse(head_pointer):\n",
    "    prev = None\n",
    "    curr = head_pointer\n",
    "    while curr:\n",
    "        temp = curr.next\n",
    "        curr.next = prev\n",
    "        prev , curr = curr , temp\n",
    "    return prev\n",
    "\n",
    "printll(reverse(head))\n",
    "\n"
   ]
  },
  {
   "attachments": {},
   "cell_type": "markdown",
   "metadata": {},
   "source": [
    "https://leetcode.com/problems/merge-two-sorted-lists/"
   ]
  },
  {
   "cell_type": "code",
   "execution_count": 57,
   "metadata": {},
   "outputs": [
    {
     "data": {
      "text/plain": [
       "'1 --> 3 --> 5 --> 7 --> 8 --> 9 --> 9'"
      ]
     },
     "execution_count": 57,
     "metadata": {},
     "output_type": "execute_result"
    }
   ],
   "source": [
    "head1 = insert([1,3,5,7,8,9,9])\n",
    "head2 = insert([2,3,4,6,8,10])\n",
    "printll(head1)\n",
    "printll(head1)"
   ]
  },
  {
   "cell_type": "code",
   "execution_count": 58,
   "metadata": {},
   "outputs": [
    {
     "data": {
      "text/plain": [
       "'2 --> 3 --> 4 --> 6 --> 8 --> 10'"
      ]
     },
     "execution_count": 58,
     "metadata": {},
     "output_type": "execute_result"
    }
   ],
   "source": [
    "printll(head2)"
   ]
  },
  {
   "cell_type": "code",
   "execution_count": 59,
   "metadata": {},
   "outputs": [
    {
     "data": {
      "text/plain": [
       "'1 --> 2 --> 3 --> 3 --> 4 --> 5 --> 6 --> 7 --> 8 --> 8 --> 9 --> 9 --> 10'"
      ]
     },
     "execution_count": 59,
     "metadata": {},
     "output_type": "execute_result"
    }
   ],
   "source": [
    "def mergelists(head1 , head2):\n",
    "    dummy = Node(None)\n",
    "    res = dummy\n",
    "    while head1 and head2:\n",
    "        if head1.value < head2.value :\n",
    "            res.next = head1\n",
    "            head1 = head1.next\n",
    "        else:\n",
    "            res.next = head2\n",
    "            head2 = head2.next\n",
    "        res = res.next\n",
    "    \n",
    "    if head1:\n",
    "        res.next = head1\n",
    "    elif head2:\n",
    "        res.next = head2\n",
    "    return dummy.next\n",
    "\n",
    "printll(mergelists(head1 , head2))\n"
   ]
  },
  {
   "attachments": {},
   "cell_type": "markdown",
   "metadata": {},
   "source": [
    "https://leetcode.com/problems/reorder-list/"
   ]
  },
  {
   "cell_type": "code",
   "execution_count": 87,
   "metadata": {},
   "outputs": [
    {
     "data": {
      "text/plain": [
       "'1 --> 3 --> 4 --> 6 --> 7 --> 9 --> 12 --> 15 --> 16'"
      ]
     },
     "execution_count": 87,
     "metadata": {},
     "output_type": "execute_result"
    }
   ],
   "source": [
    "head = insert([1,3,4,6,7,9,12,15,16])\n",
    "printll(head)"
   ]
  },
  {
   "cell_type": "code",
   "execution_count": 88,
   "metadata": {},
   "outputs": [
    {
     "data": {
      "text/plain": [
       "'1 --> 16 --> 3 --> 15 --> 4 --> 12 --> 6 --> 9 --> 7'"
      ]
     },
     "execution_count": 88,
     "metadata": {},
     "output_type": "execute_result"
    }
   ],
   "source": [
    "''' \n",
    "use fast and slow pointer to find the mid\n",
    "reverse the 2nd half\n",
    "merge 2 halves alternatively\n",
    "'''\n",
    "\n",
    "def reorderlist(head):\n",
    "    slow , fast = head , head.next\n",
    "    while fast and fast.next:\n",
    "        slow = slow.next\n",
    "        fast = fast.next.next\n",
    "\n",
    "    prev = None\n",
    "    curr = slow\n",
    "    while curr:\n",
    "        temp = curr.next\n",
    "        curr.next = prev\n",
    "        prev = curr\n",
    "        curr = temp\n",
    "    head_pointer = head\n",
    "    while prev:\n",
    "        temp1 , temp2 = head_pointer.next , prev.next\n",
    "        head_pointer.next = prev\n",
    "        prev.next = temp1\n",
    "        head_pointer , prev = temp1 , temp2\n",
    "    \n",
    "    return head\n",
    "\n",
    "\n",
    "\n",
    "\n",
    "\n",
    "printll(reorderlist(head))"
   ]
  },
  {
   "attachments": {},
   "cell_type": "markdown",
   "metadata": {},
   "source": [
    "https://leetcode.com/problems/remove-nth-node-from-end-of-list/"
   ]
  },
  {
   "cell_type": "code",
   "execution_count": 109,
   "metadata": {},
   "outputs": [
    {
     "data": {
      "text/plain": [
       "'1 --> 3 --> 4 --> 6 --> 7 --> 9 --> 12 --> 15 --> 16'"
      ]
     },
     "execution_count": 109,
     "metadata": {},
     "output_type": "execute_result"
    }
   ],
   "source": [
    "head = insert([1,3,4,6,7,9,12,15,16])\n",
    "printll(head)"
   ]
  },
  {
   "cell_type": "code",
   "execution_count": 110,
   "metadata": {},
   "outputs": [
    {
     "data": {
      "text/plain": [
       "'1 --> 3 --> 4 --> 6 --> 7 --> 12 --> 15 --> 16'"
      ]
     },
     "execution_count": 110,
     "metadata": {},
     "output_type": "execute_result"
    }
   ],
   "source": [
    "def remove_nth_fromlast(head , n):\n",
    "    ''' \n",
    "    2 pointer approach to reach the nth from last node\n",
    "    unlink node and connect the chain\n",
    "    '''\n",
    "    leading , trailing = head.next , head\n",
    "    for _ in range(n):\n",
    "        leading = leading.next\n",
    "    while leading:\n",
    "        leading = leading.next\n",
    "        trailing = trailing.next\n",
    "    if trailing:\n",
    "        trailing.next = trailing.next.next\n",
    "    return head\n",
    "\n",
    "printll(remove_nth_fromlast(head , 4))\n"
   ]
  },
  {
   "attachments": {},
   "cell_type": "markdown",
   "metadata": {},
   "source": [
    "https://leetcode.com/problems/linked-list-cycle/"
   ]
  },
  {
   "cell_type": "code",
   "execution_count": 111,
   "metadata": {},
   "outputs": [
    {
     "data": {
      "text/plain": [
       "'1 --> 3 --> 4 --> 6 --> 7 --> 9 --> 12 --> 15 --> 16'"
      ]
     },
     "execution_count": 111,
     "metadata": {},
     "output_type": "execute_result"
    }
   ],
   "source": [
    "head = insert([1,3,4,6,7,9,12,15,16])\n",
    "printll(head)"
   ]
  },
  {
   "cell_type": "code",
   "execution_count": 112,
   "metadata": {},
   "outputs": [
    {
     "name": "stdout",
     "output_type": "stream",
     "text": [
      "False\n"
     ]
    }
   ],
   "source": [
    "def has_cycle(head):\n",
    "    if head:\n",
    "            slow , fast = head , head.next\n",
    "    else:\n",
    "        return False\n",
    "    while fast and fast.next:\n",
    "        if slow == fast:\n",
    "            return True\n",
    "        slow = slow.next\n",
    "        fast = fast.next.next\n",
    "    return False\n",
    "\n",
    "print(has_cycle(head))\n"
   ]
  },
  {
   "attachments": {},
   "cell_type": "markdown",
   "metadata": {},
   "source": [
    "https://leetcode.com/problems/merge-k-sorted-lists/"
   ]
  },
  {
   "cell_type": "code",
   "execution_count": 130,
   "metadata": {},
   "outputs": [
    {
     "name": "stdout",
     "output_type": "stream",
     "text": [
      "[<__main__.Node object at 0x1051c64c0>, <__main__.Node object at 0x1051c6280>, <__main__.Node object at 0x1051c6d30>, <__main__.Node object at 0x1051c66d0>]\n"
     ]
    }
   ],
   "source": [
    "head1 = insert([1,3,])\n",
    "head2 = insert([9,12,15,16])\n",
    "head3 = insert([4,6,16])\n",
    "head4 = insert([115,116])\n",
    "lists = [head1 , head2 , head3 , head4]\n",
    "print(lists)"
   ]
  },
  {
   "cell_type": "code",
   "execution_count": 131,
   "metadata": {},
   "outputs": [
    {
     "data": {
      "text/plain": [
       "'1 --> 3 --> 4 --> 6 --> 9 --> 12 --> 15 --> 16 --> 16 --> 115 --> 116'"
      ]
     },
     "execution_count": 131,
     "metadata": {},
     "output_type": "execute_result"
    }
   ],
   "source": [
    "def merge_k_llists(lists):\n",
    "    ''' \n",
    "    merge 2 nearby pairs of ll until the total length of lists becomes 1\n",
    "    '''\n",
    "\n",
    "    if lists == None or len(lists)==0:\n",
    "        return None\n",
    "    while len(lists) > 1:\n",
    "        mergedlists = []\n",
    "        for i in range(0 , len(lists) , 2):\n",
    "            list1 = lists[i]\n",
    "            list2 = lists[i+1] if (i+1) < len(lists) else None\n",
    "            mergedlists.append(mergelists(list1 , list2))\n",
    "        lists = mergedlists\n",
    "    return lists[0]\n",
    "\n",
    "def mergelists(l1 , l2):\n",
    "    res = Node(None)\n",
    "    head = res\n",
    "    while l1 and l2:\n",
    "        if l1.value < l2.value:\n",
    "            res.next = l1\n",
    "            l1 = l1.next\n",
    "        else:\n",
    "            res.next = l2\n",
    "            l2 = l2.next\n",
    "        res = res.next\n",
    "    if l1:\n",
    "        res.next = l1\n",
    "    if l2:\n",
    "        res.next = l2\n",
    "    return head.next\n",
    "\n",
    "printll(merge_k_llists(lists))\n",
    "\n",
    "\n",
    "    "
   ]
  },
  {
   "cell_type": "code",
   "execution_count": 128,
   "metadata": {},
   "outputs": [
    {
     "name": "stdout",
     "output_type": "stream",
     "text": [
      "1\n",
      "4\n",
      "7\n",
      "12\n",
      "16\n"
     ]
    }
   ],
   "source": [
    "arr = [1,3,4,6,7,9,12,15,16]\n",
    "for i in range(0 , len(arr) , 2):\n",
    "    print(arr[i])"
   ]
  },
  {
   "cell_type": "code",
   "execution_count": null,
   "metadata": {},
   "outputs": [],
   "source": []
  }
 ],
 "metadata": {
  "kernelspec": {
   "display_name": "Python 3",
   "language": "python",
   "name": "python3"
  },
  "language_info": {
   "codemirror_mode": {
    "name": "ipython",
    "version": 3
   },
   "file_extension": ".py",
   "mimetype": "text/x-python",
   "name": "python",
   "nbconvert_exporter": "python",
   "pygments_lexer": "ipython3",
   "version": "3.9.6"
  },
  "orig_nbformat": 4
 },
 "nbformat": 4,
 "nbformat_minor": 2
}
