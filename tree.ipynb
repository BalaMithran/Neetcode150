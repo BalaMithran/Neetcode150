{
 "cells": [
  {
   "cell_type": "code",
   "execution_count": 6,
   "metadata": {},
   "outputs": [
    {
     "name": "stdout",
     "output_type": "stream",
     "text": [
      "3\n",
      "2\n",
      "5\n",
      "4\n",
      "9\n",
      "6\n",
      "12\n",
      "7\n"
     ]
    }
   ],
   "source": [
    "class TreeNode:\n",
    "    def __init__(self, val=0, left=None, right=None):\n",
    "        self.val = val\n",
    "        self.left = left\n",
    "        self.right = right\n",
    "\n",
    "root = TreeNode(4)\n",
    "root.left = TreeNode(2)\n",
    "root.right = TreeNode(6)\n",
    "root.left.left = TreeNode(3)\n",
    "root.left.right = TreeNode(5)\n",
    "root.right.left = TreeNode(9)\n",
    "root.right.right = TreeNode(12)\n",
    "root.right.right.right = TreeNode(7)\n",
    "\n",
    "def printTree(root):\n",
    "    if root.left:\n",
    "        printTree(root.left)\n",
    "    print(root.val)\n",
    "    if root.right:\n",
    "        printTree(root.right)\n",
    "\n",
    "        \n",
    "        \n",
    "printTree(root)\n"
   ]
  },
  {
   "attachments": {},
   "cell_type": "markdown",
   "metadata": {},
   "source": [
    "https://leetcode.com/problems/invert-binary-tree/"
   ]
  },
  {
   "cell_type": "code",
   "execution_count": 7,
   "metadata": {},
   "outputs": [
    {
     "name": "stdout",
     "output_type": "stream",
     "text": [
      "3\n",
      "2\n",
      "5\n",
      "4\n",
      "9\n",
      "6\n",
      "12\n",
      "7\n"
     ]
    },
    {
     "data": {
      "text/plain": [
       "<__main__.TreeNode at 0x1100f04f0>"
      ]
     },
     "execution_count": 7,
     "metadata": {},
     "output_type": "execute_result"
    }
   ],
   "source": [
    "def invert(root):\n",
    "    if root:\n",
    "        root.left , root.right = root.right , root.left\n",
    "        invert(root.left)\n",
    "        invert(root.right)\n",
    "    return root\n",
    "printTree(root)\n",
    "invert(root)"
   ]
  },
  {
   "cell_type": "code",
   "execution_count": 8,
   "metadata": {},
   "outputs": [
    {
     "name": "stdout",
     "output_type": "stream",
     "text": [
      "7\n",
      "12\n",
      "6\n",
      "9\n",
      "4\n",
      "5\n",
      "2\n",
      "3\n"
     ]
    }
   ],
   "source": [
    "printTree(root)"
   ]
  },
  {
   "attachments": {},
   "cell_type": "markdown",
   "metadata": {},
   "source": [
    "https://leetcode.com/problems/maximum-depth-of-binary-tree/"
   ]
  },
  {
   "cell_type": "code",
   "execution_count": 18,
   "metadata": {},
   "outputs": [],
   "source": [
    "root = TreeNode(4)\n",
    "root.left = TreeNode(2)\n",
    "root.right = TreeNode(6)\n",
    "root.left.left = TreeNode(3)\n",
    "root.left.right = TreeNode(5)\n",
    "root.right.left = TreeNode(9)\n",
    "root.right.right = TreeNode(12)\n",
    "root.right.right.right = TreeNode(7)\n",
    "\n",
    "def printTree(root):\n",
    "    if root.left:\n",
    "        printTree(root.left)\n",
    "    print(root.val)\n",
    "    if root.right:\n",
    "        printTree(root.right)"
   ]
  },
  {
   "cell_type": "code",
   "execution_count": 14,
   "metadata": {},
   "outputs": [
    {
     "name": "stdout",
     "output_type": "stream",
     "text": [
      "3\n",
      "2\n",
      "5\n",
      "4\n",
      "9\n",
      "6\n",
      "12\n",
      "7\n"
     ]
    }
   ],
   "source": [
    "printTree(root)"
   ]
  },
  {
   "cell_type": "code",
   "execution_count": 11,
   "metadata": {},
   "outputs": [
    {
     "name": "stdout",
     "output_type": "stream",
     "text": [
      "4\n"
     ]
    }
   ],
   "source": [
    "def max_depth(root):\n",
    "    return max_depth_helper(root , 0)\n",
    "def max_depth_helper(root , height_so_far):\n",
    "    if not root:\n",
    "        return height_so_far\n",
    "    return max(max_depth_helper(root.left , height_so_far+1) , max_depth_helper(root.right , height_so_far+1))\n",
    "\n",
    "print(max_depth(root))\n",
    "    "
   ]
  },
  {
   "attachments": {},
   "cell_type": "markdown",
   "metadata": {},
   "source": [
    "https://leetcode.com/problems/same-tree/"
   ]
  },
  {
   "cell_type": "code",
   "execution_count": 12,
   "metadata": {},
   "outputs": [],
   "source": [
    "def same_tree(p , q):\n",
    "    if p is None and q is None:\n",
    "        return True\n",
    "    if p is None or q is None:\n",
    "        return False\n",
    "    if p.val == q.val:\n",
    "        return (same_tree(p.left , q.left) and same_tree(p.right , q.right))\n",
    "    return False\n"
   ]
  },
  {
   "cell_type": "code",
   "execution_count": 22,
   "metadata": {},
   "outputs": [],
   "source": [
    "def sametree(p, q):\n",
    "    if p and q:\n",
    "        return (p.val == q.val and sametree(p.left , q.left) and sametree(p.right , q.right))\n",
    "    return p is q"
   ]
  },
  {
   "cell_type": "code",
   "execution_count": 23,
   "metadata": {},
   "outputs": [
    {
     "name": "stdout",
     "output_type": "stream",
     "text": [
      "True\n"
     ]
    }
   ],
   "source": [
    "print(same_tree(root , root))"
   ]
  },
  {
   "cell_type": "code",
   "execution_count": 24,
   "metadata": {},
   "outputs": [],
   "source": [
    "root2 = TreeNode(12)"
   ]
  },
  {
   "cell_type": "code",
   "execution_count": 25,
   "metadata": {},
   "outputs": [
    {
     "name": "stdout",
     "output_type": "stream",
     "text": [
      "False\n"
     ]
    }
   ],
   "source": [
    "print(same_tree(root , root2))"
   ]
  },
  {
   "attachments": {},
   "cell_type": "markdown",
   "metadata": {},
   "source": [
    "https://leetcode.com/problems/subtree-of-another-tree/"
   ]
  },
  {
   "cell_type": "code",
   "execution_count": 26,
   "metadata": {},
   "outputs": [],
   "source": [
    "def issubtree(root , subroot):\n",
    "    if root is None:\n",
    "        return False\n",
    "    if same_tree(root , subroot):\n",
    "        return True\n",
    "    return (issubtree(root.left , subroot) or issubtree(root.right , subroot))"
   ]
  },
  {
   "attachments": {},
   "cell_type": "markdown",
   "metadata": {},
   "source": [
    "https://leetcode.com/problems/binary-tree-level-order-traversal/"
   ]
  },
  {
   "cell_type": "code",
   "execution_count": 27,
   "metadata": {},
   "outputs": [],
   "source": [
    "def level_order(root):\n",
    "    res = []\n",
    "    q = collections.deque()\n",
    "    if root:\n",
    "        q.append(root)\n",
    "    while q:\n",
    "        level = []\n",
    "        for _ in range(len(q)):\n",
    "            node = q.popleft()\n",
    "            level.append(node.val)\n",
    "            if node.left:\n",
    "                q.append(node.left)\n",
    "            if node.right:\n",
    "                q.append(node.right)\n",
    "        res.append(level)\n",
    "    return res\n"
   ]
  },
  {
   "cell_type": "code",
   "execution_count": null,
   "metadata": {},
   "outputs": [],
   "source": [
    "def validBST(root):\n",
    "    def valid(node , left , right):\n",
    "        if not node:\n",
    "            return True\n",
    "        if not(left<node.val<right):\n",
    "            return False\n",
    "        return (valid(node.left , left , node.val) and valid(node , node.val , right))\n",
    "    return valid(root , float(\"-inf\") , float(\"inf\"))"
   ]
  },
  {
   "cell_type": "code",
   "execution_count": 28,
   "metadata": {},
   "outputs": [],
   "source": [
    "def ksmallest(root , k):\n",
    "    stack = []\n",
    "    curr = root\n",
    "    while curr or stack:\n",
    "        while curr:\n",
    "            stack.append(curr)\n",
    "            curr = curr.left\n",
    "        curr = stack.pop()\n",
    "        k-=1\n",
    "        if k==0:\n",
    "            return curr.val\n",
    "        curr = curr.right"
   ]
  }
 ],
 "metadata": {
  "kernelspec": {
   "display_name": "Python 3",
   "language": "python",
   "name": "python3"
  },
  "language_info": {
   "codemirror_mode": {
    "name": "ipython",
    "version": 3
   },
   "file_extension": ".py",
   "mimetype": "text/x-python",
   "name": "python",
   "nbconvert_exporter": "python",
   "pygments_lexer": "ipython3",
   "version": "3.9.6"
  },
  "orig_nbformat": 4
 },
 "nbformat": 4,
 "nbformat_minor": 2
}
